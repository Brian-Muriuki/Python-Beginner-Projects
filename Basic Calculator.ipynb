{
 "cells": [
  {
   "cell_type": "code",
   "execution_count": null,
   "id": "674da461-099d-46a7-bfb7-649a210c7e7c",
   "metadata": {},
   "outputs": [],
   "source": [
    "#The calculator will consist of several functions each with diff computational task\n",
    "\n",
    "def addition(x,y):\n",
    "    return x+y\n",
    "\n",
    "def subtraction(x,y):\n",
    "    return x-y\n",
    "\n",
    "def multiplication(x,y):\n",
    "    return x*y\n",
    "\n",
    "def division(x,y):\n",
    "    if y == 0:\n",
    "        return \"cannot divide by 0\"\n",
    "    return x/y\n",
    "\n",
    "#now we need to enable the user to call the math function they desire\n",
    "while True: #we use loop to ensure user uses calculator as many times as they desire\n",
    "    user_input = input('\\nplease choose one of the functions add, subtract, divide, multiply or quit')\n",
    "    if user_input == \"quit\": #use quit input to end loop\n",
    "        print(\"\\nGoodbye\")\n",
    "        break\n",
    "    elif user_input in ['add','subtract','multiply','divide']:\n",
    "        num_1 = float(input(\"Please input the first number: \")) # using float allows the calculator to handle both integer and decimal input\n",
    "        num_2 = float(input(\"Please input the second number: \"))\n",
    "        if user_input == \"add\":\n",
    "            print(f\"Result: \", addition(num_1, num_2))\n",
    "        if user_input == \"subtract\":\n",
    "            print(f\"Result: \", subtraction(num_1, num_2))\n",
    "        if user_input == \"multiply\":\n",
    "            print(f\"Result: \", multiply(num_1, num_2))\n",
    "        if user_input == \"divide\":\n",
    "            print(f\"Result: \", division(num_1, num_2))\n",
    "    else:\n",
    "        print(\"\\ninvalid input\")\n",
    "        user_input\n",
    "\n",
    "            \n",
    "    \n",
    "    "
   ]
  }
 ],
 "metadata": {
  "kernelspec": {
   "display_name": "Python 3 (ipykernel)",
   "language": "python",
   "name": "python3"
  },
  "language_info": {
   "codemirror_mode": {
    "name": "ipython",
    "version": 3
   },
   "file_extension": ".py",
   "mimetype": "text/x-python",
   "name": "python",
   "nbconvert_exporter": "python",
   "pygments_lexer": "ipython3",
   "version": "3.9.5"
  }
 },
 "nbformat": 4,
 "nbformat_minor": 5
}
