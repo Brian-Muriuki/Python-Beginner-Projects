{
 "cells": [
  {
   "cell_type": "markdown",
   "id": "31e2ab16-4f8a-45b4-9bc4-fb5adcc08e2b",
   "metadata": {},
   "source": [
    "### Basic Madlibs Generator "
   ]
  },
  {
   "cell_type": "code",
   "execution_count": 17,
   "id": "d33dcf0d-7cd2-4037-92a7-2f68b7e16b31",
   "metadata": {},
   "outputs": [
    {
     "name": "stdout",
     "output_type": "stream",
     "text": [
      "Welcome to the Dream Capture Mad Libs Generator!\n",
      "\n",
      "We aim to prompt you to capture your dreams and aspirations using words and weave them into a fun and imaginative story.\n",
      "Feel free to share your biggest dreams, goals, or even a bucket list item. This is your chance to let your imagination soar!\n",
      "\n",
      "In this basic version you will be required to choose a city, car, and career.\n"
     ]
    }
   ],
   "source": [
    "# Basic Madlib generator\n",
    "\n",
    "''' 1. Dreams\n",
    "Creating a story template for a madlibs generator is not easy especially if you're looking for something unique or special.\n",
    "I decided to create this Madlib Generator that will seek to establish the personal dreams of the user once they reach their pinnacle.\n",
    "\n",
    "It will seek to ask their dream city, setting, bedrooms, car.\n",
    "\n",
    "I choose a madlib generator to help me test my knowledge on string manipulation and formatting as well as handling user inputs\n",
    "and some creativity skills.\n",
    "'''\n",
    "#I want to first give an introductory statement to introduce the game and give user guidance.\n",
    "\n",
    "intro_message = (\n",
    "    \"Welcome to the Dream Capture Mad Libs Generator!\\n\\n\"\n",
    "    \"We aim to prompt you to capture your dreams and aspirations using words and weave them into a fun and imaginative story.\\n\"\n",
    "    \"Feel free to share your biggest dreams, goals, or even a bucket list item. This is your chance to let your imagination soar!\\n\\n\"\n",
    "    \"In this basic version you will be required to choose a city, car, and career.\"\n",
    ")\n",
    "\n",
    "print(intro_message)\n"
   ]
  },
  {
   "cell_type": "code",
   "execution_count": 9,
   "id": "725ad0df-fa0b-443e-af6c-0a6acf294666",
   "metadata": {},
   "outputs": [
    {
     "name": "stdout",
     "output_type": "stream",
     "text": [
      "I want you to picture yourself waking up at the city of your dreams and I would like to offer some guidance to ensure you pick your heart's desires.\n",
      "\n",
      "The world is full of cities rich in diversity with each offering a unique experience.\n",
      "When you think city I would like you to narrow down your thinking first into the type of city you want to live in.\n",
      "I will give some examples of 5 city categories and what they would offer. Make sure your city choice matches teh environment you would like to wake up to.\n",
      "\n",
      "\n",
      "1. Metropolitan: People who have career opportunities, cultural experiences, access to top-notch amenities, and a fast-paced lifestyle in mind. Examples include NewYork and London\n",
      "2. Historic: Those who may aspire to connect with their cultural roots, explore the city's history, and appreciate the beauty of historic architecture. Examples include Istanbul and Rome.\n",
      "3. Scenic: Someone who desires a peaceful and aesthetically pleasing lifestyle where they can immerse themselves in outdoor activities, connect with nature, and find tranquility in the stunning surroundings. Examples include Cape Town and Santorini.\n",
      "4. Tropical Paradise: If you desire an escape from the hustle and bustle of urban life. Aspire to lead a laid-back, beach-centric lifestyle, engage in water sports, and enjoy the natural beauty of the tropics. Examples include Hawaii and Bali.\n",
      "5. Countryside: Are you yearning for a peaceful and idyllic lifestyle? An opportunity to live closer to nature, engage in farming or gardening, and enjoy the simplicity of rural living. Examples include Aspen and Provence.\n",
      "\n",
      "\n"
     ]
    },
    {
     "name": "stdin",
     "output_type": "stream",
     "text": [
      "Take your time, picture yourself in either of these environments and then choose your city of choice:  Bali\n"
     ]
    }
   ],
   "source": [
    "city_intro = (\n",
    "    \"I want you to picture yourself waking up at the city of your dreams and I would like to offer some guidance to ensure you pick your heart's desires.\\n\\n\"\n",
    "    \"The world is full of cities rich in diversity with each offering a unique experience.\\n\"\n",
    "    \"When you think city I would like you to narrow down your thinking first into the type of city you want to live in.\\n\"\n",
    "    \"I will give some examples of 5 city categories and what they would offer. Make sure your city choice matches the environment you would like to wake up to.\\n\\n\\n\"\n",
    "    \"1. Metropolitan: People who have career opportunities, cultural experiences, access to top-notch amenities, and a fast-paced lifestyle in mind. Examples include NewYork and London\\n\"\n",
    "    \"2. Historic: Those who may aspire to connect with their cultural roots, explore the city's history, and appreciate the beauty of historic architecture. Examples include Istanbul and Rome.\\n\"\n",
    "    \"3. Scenic: Someone who desires a peaceful and aesthetically pleasing lifestyle where they can immerse themselves in outdoor activities, connect with nature, and find tranquility in the stunning surroundings. Examples include Cape Town and Santorini.\\n\"\n",
    "    \"4. Tropical Paradise: If you desire an escape from the hustle and bustle of urban life. Aspire to lead a laid-back, beach-centric lifestyle, engage in water sports, and enjoy the natural beauty of the tropics. Examples include Hawaii and Bali.\\n\"\n",
    "    \"5. Countryside: Are you yearning for a peaceful and idyllic lifestyle? An opportunity to live closer to nature, engage in farming or gardening, and enjoy the simplicity of rural living. Examples include Aspen and Provence.\\n\\n\"\n",
    ")\n",
    "print(city_intro)\n",
    "city = input(\"Take your time, picture yourself in either of these environments and then choose your city of choice: \")\n"
   ]
  },
  {
   "cell_type": "code",
   "execution_count": 10,
   "id": "7fa913ea-3a47-4e8d-bc18-755823596057",
   "metadata": {},
   "outputs": [
    {
     "name": "stdout",
     "output_type": "stream",
     "text": [
      "I believe the choice of a car can offer some insight into someone's personality.\n",
      "When choosing your dream car ensure it will come close to matching your desires.\n",
      "For example if you like living on the edge you might gravitate towards a sports car like porsche or ferrari.\n",
      "If you are a camper you might want a capable off-road vehicle like Land Cruiser or Land Rover.\n",
      "\n"
     ]
    },
    {
     "name": "stdin",
     "output_type": "stream",
     "text": [
      "Which dream car do you see yourself driving:  porsche\n"
     ]
    }
   ],
   "source": [
    "car_intro = (\n",
    "    \"I believe the choice of a car can offer some insight into someone's personality.\\n\"\n",
    "    \"When choosing your dream car ensure it will come close to matching your desires.\\n\"\n",
    "    \"For example if you like living on the edge you might gravitate towards a sports car like porsche or ferrari.\\n\"\n",
    "    \"If you are a camper you might want a capable off-road vehicle like Land Cruiser or Land Rover.\\n\"\n",
    ")\n",
    "\n",
    "print(car_intro)\n",
    "car = input(\"Which dream car do you see yourself driving: \")\n",
    "    "
   ]
  },
  {
   "cell_type": "code",
   "execution_count": 11,
   "id": "a4777ca6-848d-4a89-876f-28820ee35252",
   "metadata": {},
   "outputs": [
    {
     "name": "stdin",
     "output_type": "stream",
     "text": [
      "What profession do you want to do for the rest of your life?  astronomer\n"
     ]
    }
   ],
   "source": [
    "career_intro = (\n",
    "    \"You're in your dream city and getting into your dream car, which career would you like to be heading towards?\\n\"\n",
    "    \"If you're living your dream then you're not financially constrained thus your career is something that fulfills your heart's desires.\\n\"\n",
    ")\n",
    "\n",
    "career = input(\"What profession do you want to do for the rest of your life? \")"
   ]
  },
  {
   "cell_type": "code",
   "execution_count": 15,
   "id": "73769bb1-f81d-4ceb-9f43-5a326bf62933",
   "metadata": {},
   "outputs": [
    {
     "data": {
      "text/plain": [
       "'I am thriving in Bali, driving my porsche and excelling in my passion as a astronomer'"
      ]
     },
     "execution_count": 15,
     "metadata": {},
     "output_type": "execute_result"
    }
   ],
   "source": [
    "madlibs_output = f\"I am thriving in {city}, driving my {car} and excelling in my passion as a {career}\"\n",
    "madlibs_output"
   ]
  },
  {
   "cell_type": "code",
   "execution_count": null,
   "id": "fa761cb4-ceaf-4118-b56b-78ee8776d9e8",
   "metadata": {},
   "outputs": [],
   "source": []
  }
 ],
 "metadata": {
  "kernelspec": {
   "display_name": "Python 3 (ipykernel)",
   "language": "python",
   "name": "python3"
  },
  "language_info": {
   "codemirror_mode": {
    "name": "ipython",
    "version": 3
   },
   "file_extension": ".py",
   "mimetype": "text/x-python",
   "name": "python",
   "nbconvert_exporter": "python",
   "pygments_lexer": "ipython3",
   "version": "3.9.5"
  }
 },
 "nbformat": 4,
 "nbformat_minor": 5
}
