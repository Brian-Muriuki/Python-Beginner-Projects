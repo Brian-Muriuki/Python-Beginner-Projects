{
 "cells": [
  {
   "cell_type": "markdown",
   "id": "967d323d-0421-49ad-b8f1-27d02095197c",
   "metadata": {},
   "source": [
    "## Rock Paper Scissors"
   ]
  },
  {
   "cell_type": "code",
   "execution_count": 7,
   "id": "8dfa99e4-aec2-43d0-a6b4-64d29792dda7",
   "metadata": {},
   "outputs": [
    {
     "name": "stdin",
     "output_type": "stream",
     "text": [
      "rock, paper, or scissors?:  rock\n"
     ]
    },
    {
     "name": "stdout",
     "output_type": "stream",
     "text": [
      "Computer chooses: paper\n",
      "Player chooses: rock\n",
      "You Lose :(\n"
     ]
    },
    {
     "name": "stdin",
     "output_type": "stream",
     "text": [
      "Would you like to play again? Y/n y\n",
      "rock, paper, or scissors?:  paper\n"
     ]
    },
    {
     "name": "stdout",
     "output_type": "stream",
     "text": [
      "Computer chooses: rock\n",
      "Player chooses: paper\n",
      "You Win :)\n"
     ]
    },
    {
     "name": "stdin",
     "output_type": "stream",
     "text": [
      "Would you like to play again? Y/n y\n",
      "rock, paper, or scissors?:  rock\n"
     ]
    },
    {
     "name": "stdout",
     "output_type": "stream",
     "text": [
      "Computer chooses: paper\n",
      "Player chooses: rock\n",
      "You Lose :(\n"
     ]
    },
    {
     "name": "stdin",
     "output_type": "stream",
     "text": [
      "Would you like to play again? Y/n b\n"
     ]
    },
    {
     "name": "stdout",
     "output_type": "stream",
     "text": [
      "\n",
      "You won 1 times \t\t The computer won 2 times \t\t Your score is 33.33333333333333%\n",
      "\n",
      "Thank you for playing, goodbye\n"
     ]
    }
   ],
   "source": [
    "#the rock paper scissors game will help me learn about use of random function and some basic if and while loop functions\n",
    "import random\n",
    "\n",
    "#label our choices\n",
    "choices = [\"rock\",\"paper\",\"scissors\"]\n",
    "#we create a function to hold the game\n",
    "\n",
    "#rps stands for rock, paper, scissors\n",
    "def rps():\n",
    "    #I want to keep score of who has most wins in the end assuming player plays multiple times\n",
    "    player_win = 0\n",
    "    computer_win = 0\n",
    "    total_runs = 0\n",
    "    #we use while loop to ensure game keeps running until user terminates\n",
    "    while True:\n",
    "        #we increase count here to ensure all runs are summed\n",
    "        total_runs += 1\n",
    "        #assign computer input using random fucntion to ensure fair chance\n",
    "        computer = random.choice(choices)\n",
    "\n",
    "        #ask player for input\n",
    "        player = input(\"rock, paper, or scissors?: \").lower()\n",
    "\n",
    "        #This is a provision to ensure player chooses only one of the three options and remains in scope of game\n",
    "        #Will also fix unfortunate typo occurrences \n",
    "        if player not in choices:\n",
    "            print(\"Please choose either 'rock paper or scissors'\")\n",
    "            while player not in choices:\n",
    "                player = input(\"rock, paper, or scissors?: \").lower()\n",
    "            else:\n",
    "                pass\n",
    "\n",
    "\n",
    "        #This is logic of game to ensure comparisons are made and victor decided\n",
    "\n",
    "        #First we address what happen when both opponents pick same item to shorten code since we avoid repeating in all if loops\n",
    "        if player == computer:\n",
    "            print(f\"Computer chooses: {computer}\")\n",
    "            print(f\"Player chooses: {player}\")\n",
    "            print(\"Tie Game :p\")\n",
    "\n",
    "        #Use player as basis for comparison. Picking one option leaves only 2 remaining which you assign as either win or lose\n",
    "        elif player == \"paper\":\n",
    "            if computer == \"scissors\":\n",
    "                print(f\"Computer chooses: {computer}\")\n",
    "                print(f\"Player chooses: {player}\")\n",
    "                print(\"You Lose :(\")\n",
    "                #we add computer wins where you lose\n",
    "                computer_win += 1\n",
    "            if computer == \"rock\":\n",
    "                print(f\"Computer chooses: {computer}\")\n",
    "                print(f\"Player chooses: {player}\")\n",
    "                print(\"You Win :)\")\n",
    "                #we add player win where you win\n",
    "                player_win += 1\n",
    "\n",
    "        elif player == \"rock\":\n",
    "            if computer == \"paper\":\n",
    "                print(f\"Computer chooses: {computer}\")\n",
    "                print(f\"Player chooses: {player}\")\n",
    "                print(\"You Lose :(\")\n",
    "                computer_win += 1\n",
    "            if computer == \"scissors\":\n",
    "                print(f\"Computer chooses: {computer}\")\n",
    "                print(f\"Player chooses: {player}\")\n",
    "                print(\"You Win :)\")\n",
    "                player_win += 1\n",
    "\n",
    "\n",
    "        elif player == \"scissors\":\n",
    "            if computer == \"rock\":\n",
    "                print(f\"Computer chooses: {computer}\")\n",
    "                print(f\"Player chooses: {player}\")\n",
    "                print(\"You Lose :(\")\n",
    "                computer_win += 1\n",
    "            if computer == \"paper\":\n",
    "                print(f\"Computer chooses: {computer}\")\n",
    "                print(f\"Player chooses: {player}\")\n",
    "                print(\"You Win :)\")\n",
    "                player_win += 1\n",
    "\n",
    "\n",
    "        #to ensure player has chance to play to satisfaction we ask them if they wish to play again\n",
    "        play_again = input(\"Would you like to play again? Y/n\").lower()\n",
    "\n",
    "        #here loop is sustained or broken\n",
    "        if play_again != \"y\":\n",
    "            #we create score based on wins\n",
    "            score = (player_win/total_runs)*100\n",
    "            print(f\"\\nYou won {player_win} times \\t\\t The computer won {computer_win} times \\t\\t Your score is {score}%\\n\")\n",
    "            print(\"Thank you for playing, goodbye\")\n",
    "            break\n",
    "            \n",
    "rps()"
   ]
  }
 ],
 "metadata": {
  "kernelspec": {
   "display_name": "Python 3 (ipykernel)",
   "language": "python",
   "name": "python3"
  },
  "language_info": {
   "codemirror_mode": {
    "name": "ipython",
    "version": 3
   },
   "file_extension": ".py",
   "mimetype": "text/x-python",
   "name": "python",
   "nbconvert_exporter": "python",
   "pygments_lexer": "ipython3",
   "version": "3.9.5"
  }
 },
 "nbformat": 4,
 "nbformat_minor": 5
}
