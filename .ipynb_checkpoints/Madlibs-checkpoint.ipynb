{
 "cells": [
  {
   "cell_type": "markdown",
   "id": "31e2ab16-4f8a-45b4-9bc4-fb5adcc08e2b",
   "metadata": {},
   "source": [
    "### Basic Madlibs Generator "
   ]
  },
  {
   "cell_type": "code",
   "execution_count": 31,
   "id": "d33dcf0d-7cd2-4037-92a7-2f68b7e16b31",
   "metadata": {},
   "outputs": [],
   "source": [
    "# Basic Madlib generator\n",
    "\n",
    "''' 1. Dreams\n",
    "Creating a story template for a madlibs generator is not easy especially if you're looking for something unique or special.\n",
    "I decided to create this Madlib Generator that will seek to establish the personal dreams of the user once they reach their pinnacle.\n",
    "\n",
    "It will seek to ask their dream city, career, and car.\n",
    "\n",
    "I choose a madlib generator to help me test my knowledge on string manipulation and formatting as well as handling user inputs\n",
    "and some creativity skills.\n",
    "'''\n",
    "#I want to first give list a few introductory statements to introduce the game and give user guidance.\n",
    "\n",
    "intro_message = (\n",
    "    \"Welcome to the Dream Capture Mad Libs Generator!\\n\\n\"\n",
    "    \"We aim to prompt you to capture your dreams and aspirations using words and weave them into a fun and imaginative story.\\n\"\n",
    "    \"In this basic version you will be required to choose a city, car, and career.\\n\\n\"\n",
    ")\n",
    "\n",
    "city_intro = (\n",
    "    \"1. I want you to picture yourself waking up at the city of your dreams.\\n\\n\"\n",
    "    \"When you think city I would like you to narrow down your thinking first into the type of city you want to live in.\\n\"\n",
    "    \"I will give some examples of 5 city categories and what they would offer. Make sure your city choice matches the environment you would like to wake up to :)\\n\\n\\n\"\n",
    "    \"1. Metropolitan: People who have career opportunities, cultural experiences, access to top-notch amenities, and a fast-paced lifestyle in mind. Examples include NewYork and London\\n\"\n",
    "    \"2. Historic: Those who may aspire to connect with their cultural roots, explore the city's history, and appreciate the beauty of historic architecture. Examples include Istanbul and Rome.\\n\"\n",
    "    \"3. Scenic: Someone who desires a peaceful and aesthetically pleasing lifestyle where they can immerse themselves in outdoor activities, connect with nature, and find tranquility in the stunning surroundings. Examples include Cape Town and Santorini.\\n\"\n",
    "    \"4. Tropical Paradise: If you desire an escape from the hustle and bustle of urban life. Aspire to lead a laid-back, beach-centric lifestyle, engage in water sports, and enjoy the natural beauty of the tropics. Examples include Hawaii and Bali.\\n\"\n",
    "    \"5. Countryside: Are you yearning for a peaceful and idyllic lifestyle? An opportunity to live closer to nature, engage in farming or gardening, and enjoy the simplicity of rural living. Examples include Aspen and Provence.\\n\\n\"\n",
    ")\n",
    "car_intro = (\n",
    "    \"2. I believe the choice of a car can offer some insight into someone's personality.\\n\"\n",
    "    \"When choosing your dream car ensure it will come close to matching your desires.\\n\"\n",
    "    \"For example if you like living on the edge you might gravitate towards a sports car like porsche or ferrari.\\n\"\n",
    "    \"If you are a camper you might want a capable off-road vehicle like a Land Cruiser or Land Rover.\\n\"\n",
    ")\n",
    "\n",
    "\n",
    "career_intro = (\n",
    "    \"3. You're in your dream city and getting into your dream car, which career would you like to be heading towards?\\n\"\n",
    "    \"If you're living your dream then you're not financially constrained thus your career is something that fulfills your heart's desires.\\n\"\n",
    "    )\n"
   ]
  },
  {
   "cell_type": "code",
   "execution_count": 37,
   "id": "fa761cb4-ceaf-4118-b56b-78ee8776d9e8",
   "metadata": {},
   "outputs": [
    {
     "name": "stdout",
     "output_type": "stream",
     "text": [
      "Welcome to the Dream Capture Mad Libs Generator!\n",
      "\n",
      "We aim to prompt you to capture your dreams and aspirations using words and weave them into a fun and imaginative story.\n",
      "In this basic version you will be required to choose a city, car, and career.\n",
      "\n",
      "\n",
      "1. I want you to picture yourself waking up at the city of your dreams.\n",
      "\n",
      "When you think city I would like you to narrow down your thinking first into the type of city you want to live in.\n",
      "I will give some examples of 5 city categories and what they would offer. Make sure your city choice matches the environment you would like to wake up to :)\n",
      "\n",
      "\n",
      "1. Metropolitan: People who have career opportunities, cultural experiences, access to top-notch amenities, and a fast-paced lifestyle in mind. Examples include NewYork and London\n",
      "2. Historic: Those who may aspire to connect with their cultural roots, explore the city's history, and appreciate the beauty of historic architecture. Examples include Istanbul and Rome.\n",
      "3. Scenic: Someone who desires a peaceful and aesthetically pleasing lifestyle where they can immerse themselves in outdoor activities, connect with nature, and find tranquility in the stunning surroundings. Examples include Cape Town and Santorini.\n",
      "4. Tropical Paradise: If you desire an escape from the hustle and bustle of urban life. Aspire to lead a laid-back, beach-centric lifestyle, engage in water sports, and enjoy the natural beauty of the tropics. Examples include Hawaii and Bali.\n",
      "5. Countryside: Are you yearning for a peaceful and idyllic lifestyle? An opportunity to live closer to nature, engage in farming or gardening, and enjoy the simplicity of rural living. Examples include Aspen and Provence.\n",
      "\n",
      "\n"
     ]
    },
    {
     "name": "stdin",
     "output_type": "stream",
     "text": [
      "Take your time, picture yourself in either of these environments and then choose your city of choice:  k\n"
     ]
    },
    {
     "name": "stdout",
     "output_type": "stream",
     "text": [
      "\n",
      "\n",
      "2. I believe the choice of a car can offer some insight into someone's personality.\n",
      "When choosing your dream car ensure it will come close to matching your desires.\n",
      "For example if you like living on the edge you might gravitate towards a sports car like porsche or ferrari.\n",
      "If you are a camper you might want a capable off-road vehicle like a Land Cruiser or Land Rover.\n",
      "\n"
     ]
    },
    {
     "name": "stdin",
     "output_type": "stream",
     "text": [
      "Which dream car do you see yourself driving:  y\n"
     ]
    },
    {
     "name": "stdout",
     "output_type": "stream",
     "text": [
      "\n",
      "\n",
      "3. You're in your dream city and getting into your dream car, which career would you like to be heading towards?\n",
      "If you're living your dream then you're not financially constrained thus your career is something that fulfills your heart's desires.\n",
      "\n"
     ]
    },
    {
     "name": "stdin",
     "output_type": "stream",
     "text": [
      "What profession do you want to do for the rest of your life?  u\n"
     ]
    },
    {
     "name": "stdout",
     "output_type": "stream",
     "text": [
      "I am thriving in k, driving my y and excelling in my passion u\n",
      "\n",
      "\n"
     ]
    },
    {
     "name": "stdin",
     "output_type": "stream",
     "text": [
      "Would you like to play again (Y/n)?) n\n"
     ]
    },
    {
     "name": "stdout",
     "output_type": "stream",
     "text": [
      "I am thriving in Mombasa, driving my porsche and excelling in my passion farmer\n",
      "\n",
      "\n",
      "\n",
      "\n"
     ]
    },
    {
     "ename": "AttributeError",
     "evalue": "module 'time' has no attribute 'delay'",
     "output_type": "error",
     "traceback": [
      "\u001b[1;31m---------------------------------------------------------------------------\u001b[0m",
      "\u001b[1;31mAttributeError\u001b[0m                            Traceback (most recent call last)",
      "\u001b[1;32mC:\\Temp/ipykernel_8864/2410727153.py\u001b[0m in \u001b[0;36m<module>\u001b[1;34m\u001b[0m\n\u001b[0;32m     40\u001b[0m         \u001b[0mprint\u001b[0m\u001b[1;33m(\u001b[0m\u001b[1;34m\"What are you doing today to come closer to living this dream?\"\u001b[0m\u001b[1;33m)\u001b[0m\u001b[1;33m\u001b[0m\u001b[1;33m\u001b[0m\u001b[0m\n\u001b[0;32m     41\u001b[0m \u001b[1;33m\u001b[0m\u001b[0m\n\u001b[1;32m---> 42\u001b[1;33m \u001b[0mmadlibs\u001b[0m\u001b[1;33m(\u001b[0m\u001b[1;33m)\u001b[0m\u001b[1;33m\u001b[0m\u001b[1;33m\u001b[0m\u001b[0m\n\u001b[0m\u001b[0;32m     43\u001b[0m \u001b[1;33m\u001b[0m\u001b[0m\n",
      "\u001b[1;32mC:\\Temp/ipykernel_8864/2410727153.py\u001b[0m in \u001b[0;36mmadlibs\u001b[1;34m()\u001b[0m\n\u001b[0;32m     17\u001b[0m     \u001b[0mprint\u001b[0m\u001b[1;33m(\u001b[0m\u001b[0mmadlibs_output\u001b[0m\u001b[1;33m)\u001b[0m\u001b[1;33m\u001b[0m\u001b[1;33m\u001b[0m\u001b[0m\n\u001b[0;32m     18\u001b[0m     \u001b[0mtime\u001b[0m\u001b[1;33m.\u001b[0m\u001b[0msleep\u001b[0m\u001b[1;33m(\u001b[0m\u001b[1;36m5\u001b[0m\u001b[1;33m)\u001b[0m\u001b[1;33m\u001b[0m\u001b[1;33m\u001b[0m\u001b[0m\n\u001b[1;32m---> 19\u001b[1;33m     \u001b[0mplay_again\u001b[0m\u001b[1;33m(\u001b[0m\u001b[1;33m)\u001b[0m\u001b[1;33m\u001b[0m\u001b[1;33m\u001b[0m\u001b[0m\n\u001b[0m\u001b[0;32m     20\u001b[0m \u001b[1;31m# I imagine if the user wants to play again there will be no need for delay so i just created a duplicate function without the time delays\u001b[0m\u001b[1;33m\u001b[0m\u001b[1;33m\u001b[0m\u001b[1;33m\u001b[0m\u001b[0m\n\u001b[0;32m     21\u001b[0m \u001b[1;32mdef\u001b[0m \u001b[0mmadlibs_again\u001b[0m\u001b[1;33m(\u001b[0m\u001b[1;33m)\u001b[0m\u001b[1;33m:\u001b[0m\u001b[1;33m\u001b[0m\u001b[1;33m\u001b[0m\u001b[0m\n",
      "\u001b[1;32mC:\\Temp/ipykernel_8864/2410727153.py\u001b[0m in \u001b[0;36mplay_again\u001b[1;34m()\u001b[0m\n\u001b[0;32m     37\u001b[0m         \u001b[0mmadlibs_output\u001b[0m \u001b[1;33m=\u001b[0m \u001b[1;34mf\"I am thriving in {city}, driving my {car} and excelling in my passion {career}\\n\\n\"\u001b[0m\u001b[1;33m\u001b[0m\u001b[1;33m\u001b[0m\u001b[0m\n\u001b[0;32m     38\u001b[0m         \u001b[0mprint\u001b[0m\u001b[1;33m(\u001b[0m\u001b[1;34mf\"{madlibs_output}\\n\\n\"\u001b[0m\u001b[1;33m)\u001b[0m\u001b[1;33m\u001b[0m\u001b[1;33m\u001b[0m\u001b[0m\n\u001b[1;32m---> 39\u001b[1;33m         \u001b[0mtime\u001b[0m\u001b[1;33m.\u001b[0m\u001b[0mdelay\u001b[0m\u001b[1;33m(\u001b[0m\u001b[1;36m3\u001b[0m\u001b[1;33m)\u001b[0m\u001b[1;33m\u001b[0m\u001b[1;33m\u001b[0m\u001b[0m\n\u001b[0m\u001b[0;32m     40\u001b[0m         \u001b[0mprint\u001b[0m\u001b[1;33m(\u001b[0m\u001b[1;34m\"What are you doing today to come closer to living this dream?\"\u001b[0m\u001b[1;33m)\u001b[0m\u001b[1;33m\u001b[0m\u001b[1;33m\u001b[0m\u001b[0m\n\u001b[0;32m     41\u001b[0m \u001b[1;33m\u001b[0m\u001b[0m\n",
      "\u001b[1;31mAttributeError\u001b[0m: module 'time' has no attribute 'delay'"
     ]
    }
   ],
   "source": [
    "#Since the game is quite wordy i will use the time function to ensure there is an adequate time to read guidance before prompt\n",
    "import time\n",
    "\n",
    "#create game function to make it easier to arrange the strings and conduct other manipulations\n",
    "def madlibs():\n",
    "    print(intro_message)\n",
    "    time.sleep(5)\n",
    "    print(city_intro)\n",
    "    time.sleep(10)\n",
    "    city = input(\"Take your time, picture yourself in either of these environments and then choose your city of choice: \")\n",
    "    print(f\"\\n\\n{car_intro}\")\n",
    "    time.sleep(5)\n",
    "    car = input(\"Which dream car do you see yourself driving: \")\n",
    "    print(f\"\\n\\n{career_intro}\")\n",
    "    time.sleep(5)\n",
    "    career = input(\"What profession do you want to do for the rest of your life? \")\n",
    "    madlibs_output = f\"I am thriving in {city}, driving my {car} and excelling in my passion {career}\\n\\n\"\n",
    "    print(madlibs_output)\n",
    "    time.sleep(5)\n",
    "    play_again()\n",
    "\n",
    "# I imagine if the user wants to play again there will be no need for delay so i just created a duplicate function without the time delays\n",
    "def madlibs_again():\n",
    "    print(intro_message)\n",
    "    print(city_intro)\n",
    "    city = input(\"Take your time, picture yourself in either of these environments and then choose your city of choice: \")\n",
    "    print(f\"\\n\\n{car_intro}\")\n",
    "    car = input(\"Which dream car do you see yourself driving: \")\n",
    "    print(f\"\\n\\n{career_intro}\")\n",
    "    career = input(\"What profession do you want to do for the rest of your life? \")\n",
    "    madlibs_output = f\"I am thriving in {city}, driving my {car} and excelling in my passion {career}\\n\\n\"\n",
    "    print(madlibs_output)\n",
    "    time.sleep(3)\n",
    "    play_again()\n",
    "    \n",
    "#need to create a function to allow users to play multiple times    \n",
    "def play_again():\n",
    "    proceed = input(\"Would you like to play again (Y/n)?)\").lower()\n",
    "    if proceed == ('y'):\n",
    "        madlibs_again()\n",
    "    else:\n",
    "        madlibs_output = f\"I am thriving in {city}, driving my {car} and excelling in my passion {career}\\n\\n\"\n",
    "        print(f\"{madlibs_output}\\n\\n\")\n",
    "        time.sleep(3)\n",
    "        print(\"What are you doing today to come closer to living this dream?\")\n",
    "\n",
    "madlibs()\n",
    "    "
   ]
  },
  {
   "cell_type": "code",
   "execution_count": null,
   "id": "9ce410b4-24f7-4c7e-9007-143149d7a4f0",
   "metadata": {},
   "outputs": [],
   "source": []
  }
 ],
 "metadata": {
  "kernelspec": {
   "display_name": "Python 3 (ipykernel)",
   "language": "python",
   "name": "python3"
  },
  "language_info": {
   "codemirror_mode": {
    "name": "ipython",
    "version": 3
   },
   "file_extension": ".py",
   "mimetype": "text/x-python",
   "name": "python",
   "nbconvert_exporter": "python",
   "pygments_lexer": "ipython3",
   "version": "3.9.5"
  }
 },
 "nbformat": 4,
 "nbformat_minor": 5
}
